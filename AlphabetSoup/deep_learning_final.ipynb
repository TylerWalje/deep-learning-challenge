{
  "cells": [
    {
      "cell_type": "markdown",
      "metadata": {
        "id": "kPbijdEdA3kf"
      },
      "source": [
        "## Preprocessing"
      ]
    },
    {
      "cell_type": "code",
      "execution_count": null,
      "metadata": {
        "colab": {
          "base_uri": "https://localhost:8080/",
          "height": 206
        },
        "id": "Y2LfFdGjA3kj",
        "outputId": "c9d208d2-43f4-469b-a18c-b3944e7788e6"
      },
      "outputs": [
        {
          "output_type": "execute_result",
          "data": {
            "text/plain": [
              "        EIN                                      NAME APPLICATION_TYPE  \\\n",
              "0  10520599              BLUE KNIGHTS MOTORCYCLE CLUB              T10   \n",
              "1  10531628    AMERICAN CHESAPEAKE CLUB CHARITABLE TR               T3   \n",
              "2  10547893        ST CLOUD PROFESSIONAL FIREFIGHTERS               T5   \n",
              "3  10553066            SOUTHSIDE ATHLETIC ASSOCIATION               T3   \n",
              "4  10556103  GENETIC RESEARCH INSTITUTE OF THE DESERT               T3   \n",
              "\n",
              "        AFFILIATION CLASSIFICATION      USE_CASE  ORGANIZATION  STATUS  \\\n",
              "0       Independent          C1000    ProductDev   Association       1   \n",
              "1       Independent          C2000  Preservation  Co-operative       1   \n",
              "2  CompanySponsored          C3000    ProductDev   Association       1   \n",
              "3  CompanySponsored          C2000  Preservation         Trust       1   \n",
              "4       Independent          C1000     Heathcare         Trust       1   \n",
              "\n",
              "      INCOME_AMT SPECIAL_CONSIDERATIONS  ASK_AMT  IS_SUCCESSFUL  \n",
              "0              0                      N     5000              1  \n",
              "1         1-9999                      N   108590              1  \n",
              "2              0                      N     5000              0  \n",
              "3    10000-24999                      N     6692              1  \n",
              "4  100000-499999                      N   142590              1  "
            ],
            "text/html": [
              "\n",
              "  <div id=\"df-8fe1136e-3564-4ed5-8e6f-899d13afb20d\" class=\"colab-df-container\">\n",
              "    <div>\n",
              "<style scoped>\n",
              "    .dataframe tbody tr th:only-of-type {\n",
              "        vertical-align: middle;\n",
              "    }\n",
              "\n",
              "    .dataframe tbody tr th {\n",
              "        vertical-align: top;\n",
              "    }\n",
              "\n",
              "    .dataframe thead th {\n",
              "        text-align: right;\n",
              "    }\n",
              "</style>\n",
              "<table border=\"1\" class=\"dataframe\">\n",
              "  <thead>\n",
              "    <tr style=\"text-align: right;\">\n",
              "      <th></th>\n",
              "      <th>EIN</th>\n",
              "      <th>NAME</th>\n",
              "      <th>APPLICATION_TYPE</th>\n",
              "      <th>AFFILIATION</th>\n",
              "      <th>CLASSIFICATION</th>\n",
              "      <th>USE_CASE</th>\n",
              "      <th>ORGANIZATION</th>\n",
              "      <th>STATUS</th>\n",
              "      <th>INCOME_AMT</th>\n",
              "      <th>SPECIAL_CONSIDERATIONS</th>\n",
              "      <th>ASK_AMT</th>\n",
              "      <th>IS_SUCCESSFUL</th>\n",
              "    </tr>\n",
              "  </thead>\n",
              "  <tbody>\n",
              "    <tr>\n",
              "      <th>0</th>\n",
              "      <td>10520599</td>\n",
              "      <td>BLUE KNIGHTS MOTORCYCLE CLUB</td>\n",
              "      <td>T10</td>\n",
              "      <td>Independent</td>\n",
              "      <td>C1000</td>\n",
              "      <td>ProductDev</td>\n",
              "      <td>Association</td>\n",
              "      <td>1</td>\n",
              "      <td>0</td>\n",
              "      <td>N</td>\n",
              "      <td>5000</td>\n",
              "      <td>1</td>\n",
              "    </tr>\n",
              "    <tr>\n",
              "      <th>1</th>\n",
              "      <td>10531628</td>\n",
              "      <td>AMERICAN CHESAPEAKE CLUB CHARITABLE TR</td>\n",
              "      <td>T3</td>\n",
              "      <td>Independent</td>\n",
              "      <td>C2000</td>\n",
              "      <td>Preservation</td>\n",
              "      <td>Co-operative</td>\n",
              "      <td>1</td>\n",
              "      <td>1-9999</td>\n",
              "      <td>N</td>\n",
              "      <td>108590</td>\n",
              "      <td>1</td>\n",
              "    </tr>\n",
              "    <tr>\n",
              "      <th>2</th>\n",
              "      <td>10547893</td>\n",
              "      <td>ST CLOUD PROFESSIONAL FIREFIGHTERS</td>\n",
              "      <td>T5</td>\n",
              "      <td>CompanySponsored</td>\n",
              "      <td>C3000</td>\n",
              "      <td>ProductDev</td>\n",
              "      <td>Association</td>\n",
              "      <td>1</td>\n",
              "      <td>0</td>\n",
              "      <td>N</td>\n",
              "      <td>5000</td>\n",
              "      <td>0</td>\n",
              "    </tr>\n",
              "    <tr>\n",
              "      <th>3</th>\n",
              "      <td>10553066</td>\n",
              "      <td>SOUTHSIDE ATHLETIC ASSOCIATION</td>\n",
              "      <td>T3</td>\n",
              "      <td>CompanySponsored</td>\n",
              "      <td>C2000</td>\n",
              "      <td>Preservation</td>\n",
              "      <td>Trust</td>\n",
              "      <td>1</td>\n",
              "      <td>10000-24999</td>\n",
              "      <td>N</td>\n",
              "      <td>6692</td>\n",
              "      <td>1</td>\n",
              "    </tr>\n",
              "    <tr>\n",
              "      <th>4</th>\n",
              "      <td>10556103</td>\n",
              "      <td>GENETIC RESEARCH INSTITUTE OF THE DESERT</td>\n",
              "      <td>T3</td>\n",
              "      <td>Independent</td>\n",
              "      <td>C1000</td>\n",
              "      <td>Heathcare</td>\n",
              "      <td>Trust</td>\n",
              "      <td>1</td>\n",
              "      <td>100000-499999</td>\n",
              "      <td>N</td>\n",
              "      <td>142590</td>\n",
              "      <td>1</td>\n",
              "    </tr>\n",
              "  </tbody>\n",
              "</table>\n",
              "</div>\n",
              "    <div class=\"colab-df-buttons\">\n",
              "\n",
              "  <div class=\"colab-df-container\">\n",
              "    <button class=\"colab-df-convert\" onclick=\"convertToInteractive('df-8fe1136e-3564-4ed5-8e6f-899d13afb20d')\"\n",
              "            title=\"Convert this dataframe to an interactive table.\"\n",
              "            style=\"display:none;\">\n",
              "\n",
              "  <svg xmlns=\"http://www.w3.org/2000/svg\" height=\"24px\" viewBox=\"0 -960 960 960\">\n",
              "    <path d=\"M120-120v-720h720v720H120Zm60-500h600v-160H180v160Zm220 220h160v-160H400v160Zm0 220h160v-160H400v160ZM180-400h160v-160H180v160Zm440 0h160v-160H620v160ZM180-180h160v-160H180v160Zm440 0h160v-160H620v160Z\"/>\n",
              "  </svg>\n",
              "    </button>\n",
              "\n",
              "  <style>\n",
              "    .colab-df-container {\n",
              "      display:flex;\n",
              "      gap: 12px;\n",
              "    }\n",
              "\n",
              "    .colab-df-convert {\n",
              "      background-color: #E8F0FE;\n",
              "      border: none;\n",
              "      border-radius: 50%;\n",
              "      cursor: pointer;\n",
              "      display: none;\n",
              "      fill: #1967D2;\n",
              "      height: 32px;\n",
              "      padding: 0 0 0 0;\n",
              "      width: 32px;\n",
              "    }\n",
              "\n",
              "    .colab-df-convert:hover {\n",
              "      background-color: #E2EBFA;\n",
              "      box-shadow: 0px 1px 2px rgba(60, 64, 67, 0.3), 0px 1px 3px 1px rgba(60, 64, 67, 0.15);\n",
              "      fill: #174EA6;\n",
              "    }\n",
              "\n",
              "    .colab-df-buttons div {\n",
              "      margin-bottom: 4px;\n",
              "    }\n",
              "\n",
              "    [theme=dark] .colab-df-convert {\n",
              "      background-color: #3B4455;\n",
              "      fill: #D2E3FC;\n",
              "    }\n",
              "\n",
              "    [theme=dark] .colab-df-convert:hover {\n",
              "      background-color: #434B5C;\n",
              "      box-shadow: 0px 1px 3px 1px rgba(0, 0, 0, 0.15);\n",
              "      filter: drop-shadow(0px 1px 2px rgba(0, 0, 0, 0.3));\n",
              "      fill: #FFFFFF;\n",
              "    }\n",
              "  </style>\n",
              "\n",
              "    <script>\n",
              "      const buttonEl =\n",
              "        document.querySelector('#df-8fe1136e-3564-4ed5-8e6f-899d13afb20d button.colab-df-convert');\n",
              "      buttonEl.style.display =\n",
              "        google.colab.kernel.accessAllowed ? 'block' : 'none';\n",
              "\n",
              "      async function convertToInteractive(key) {\n",
              "        const element = document.querySelector('#df-8fe1136e-3564-4ed5-8e6f-899d13afb20d');\n",
              "        const dataTable =\n",
              "          await google.colab.kernel.invokeFunction('convertToInteractive',\n",
              "                                                    [key], {});\n",
              "        if (!dataTable) return;\n",
              "\n",
              "        const docLinkHtml = 'Like what you see? Visit the ' +\n",
              "          '<a target=\"_blank\" href=https://colab.research.google.com/notebooks/data_table.ipynb>data table notebook</a>'\n",
              "          + ' to learn more about interactive tables.';\n",
              "        element.innerHTML = '';\n",
              "        dataTable['output_type'] = 'display_data';\n",
              "        await google.colab.output.renderOutput(dataTable, element);\n",
              "        const docLink = document.createElement('div');\n",
              "        docLink.innerHTML = docLinkHtml;\n",
              "        element.appendChild(docLink);\n",
              "      }\n",
              "    </script>\n",
              "  </div>\n",
              "\n",
              "\n",
              "<div id=\"df-e505be7e-ff2a-4a71-9ce8-b0c999d15b9d\">\n",
              "  <button class=\"colab-df-quickchart\" onclick=\"quickchart('df-e505be7e-ff2a-4a71-9ce8-b0c999d15b9d')\"\n",
              "            title=\"Suggest charts\"\n",
              "            style=\"display:none;\">\n",
              "\n",
              "<svg xmlns=\"http://www.w3.org/2000/svg\" height=\"24px\"viewBox=\"0 0 24 24\"\n",
              "     width=\"24px\">\n",
              "    <g>\n",
              "        <path d=\"M19 3H5c-1.1 0-2 .9-2 2v14c0 1.1.9 2 2 2h14c1.1 0 2-.9 2-2V5c0-1.1-.9-2-2-2zM9 17H7v-7h2v7zm4 0h-2V7h2v10zm4 0h-2v-4h2v4z\"/>\n",
              "    </g>\n",
              "</svg>\n",
              "  </button>\n",
              "\n",
              "<style>\n",
              "  .colab-df-quickchart {\n",
              "      --bg-color: #E8F0FE;\n",
              "      --fill-color: #1967D2;\n",
              "      --hover-bg-color: #E2EBFA;\n",
              "      --hover-fill-color: #174EA6;\n",
              "      --disabled-fill-color: #AAA;\n",
              "      --disabled-bg-color: #DDD;\n",
              "  }\n",
              "\n",
              "  [theme=dark] .colab-df-quickchart {\n",
              "      --bg-color: #3B4455;\n",
              "      --fill-color: #D2E3FC;\n",
              "      --hover-bg-color: #434B5C;\n",
              "      --hover-fill-color: #FFFFFF;\n",
              "      --disabled-bg-color: #3B4455;\n",
              "      --disabled-fill-color: #666;\n",
              "  }\n",
              "\n",
              "  .colab-df-quickchart {\n",
              "    background-color: var(--bg-color);\n",
              "    border: none;\n",
              "    border-radius: 50%;\n",
              "    cursor: pointer;\n",
              "    display: none;\n",
              "    fill: var(--fill-color);\n",
              "    height: 32px;\n",
              "    padding: 0;\n",
              "    width: 32px;\n",
              "  }\n",
              "\n",
              "  .colab-df-quickchart:hover {\n",
              "    background-color: var(--hover-bg-color);\n",
              "    box-shadow: 0 1px 2px rgba(60, 64, 67, 0.3), 0 1px 3px 1px rgba(60, 64, 67, 0.15);\n",
              "    fill: var(--button-hover-fill-color);\n",
              "  }\n",
              "\n",
              "  .colab-df-quickchart-complete:disabled,\n",
              "  .colab-df-quickchart-complete:disabled:hover {\n",
              "    background-color: var(--disabled-bg-color);\n",
              "    fill: var(--disabled-fill-color);\n",
              "    box-shadow: none;\n",
              "  }\n",
              "\n",
              "  .colab-df-spinner {\n",
              "    border: 2px solid var(--fill-color);\n",
              "    border-color: transparent;\n",
              "    border-bottom-color: var(--fill-color);\n",
              "    animation:\n",
              "      spin 1s steps(1) infinite;\n",
              "  }\n",
              "\n",
              "  @keyframes spin {\n",
              "    0% {\n",
              "      border-color: transparent;\n",
              "      border-bottom-color: var(--fill-color);\n",
              "      border-left-color: var(--fill-color);\n",
              "    }\n",
              "    20% {\n",
              "      border-color: transparent;\n",
              "      border-left-color: var(--fill-color);\n",
              "      border-top-color: var(--fill-color);\n",
              "    }\n",
              "    30% {\n",
              "      border-color: transparent;\n",
              "      border-left-color: var(--fill-color);\n",
              "      border-top-color: var(--fill-color);\n",
              "      border-right-color: var(--fill-color);\n",
              "    }\n",
              "    40% {\n",
              "      border-color: transparent;\n",
              "      border-right-color: var(--fill-color);\n",
              "      border-top-color: var(--fill-color);\n",
              "    }\n",
              "    60% {\n",
              "      border-color: transparent;\n",
              "      border-right-color: var(--fill-color);\n",
              "    }\n",
              "    80% {\n",
              "      border-color: transparent;\n",
              "      border-right-color: var(--fill-color);\n",
              "      border-bottom-color: var(--fill-color);\n",
              "    }\n",
              "    90% {\n",
              "      border-color: transparent;\n",
              "      border-bottom-color: var(--fill-color);\n",
              "    }\n",
              "  }\n",
              "</style>\n",
              "\n",
              "  <script>\n",
              "    async function quickchart(key) {\n",
              "      const quickchartButtonEl =\n",
              "        document.querySelector('#' + key + ' button');\n",
              "      quickchartButtonEl.disabled = true;  // To prevent multiple clicks.\n",
              "      quickchartButtonEl.classList.add('colab-df-spinner');\n",
              "      try {\n",
              "        const charts = await google.colab.kernel.invokeFunction(\n",
              "            'suggestCharts', [key], {});\n",
              "      } catch (error) {\n",
              "        console.error('Error during call to suggestCharts:', error);\n",
              "      }\n",
              "      quickchartButtonEl.classList.remove('colab-df-spinner');\n",
              "      quickchartButtonEl.classList.add('colab-df-quickchart-complete');\n",
              "    }\n",
              "    (() => {\n",
              "      let quickchartButtonEl =\n",
              "        document.querySelector('#df-e505be7e-ff2a-4a71-9ce8-b0c999d15b9d button');\n",
              "      quickchartButtonEl.style.display =\n",
              "        google.colab.kernel.accessAllowed ? 'block' : 'none';\n",
              "    })();\n",
              "  </script>\n",
              "</div>\n",
              "\n",
              "    </div>\n",
              "  </div>\n"
            ],
            "application/vnd.google.colaboratory.intrinsic+json": {
              "type": "dataframe",
              "variable_name": "application_df",
              "summary": "{\n  \"name\": \"application_df\",\n  \"rows\": 34299,\n  \"fields\": [\n    {\n      \"column\": \"EIN\",\n      \"properties\": {\n        \"dtype\": \"number\",\n        \"std\": 245147183,\n        \"min\": 10520599,\n        \"max\": 996086871,\n        \"num_unique_values\": 34299,\n        \"samples\": [\n          271598055,\n          900109768,\n          352562499\n        ],\n        \"semantic_type\": \"\",\n        \"description\": \"\"\n      }\n    },\n    {\n      \"column\": \"NAME\",\n      \"properties\": {\n        \"dtype\": \"string\",\n        \"num_unique_values\": 19568,\n        \"samples\": [\n          \"LOCAL 12 USW GOODYEAR INSTITUTE FORCAREER DEVELOPMENT\",\n          \"INTERNATION ASSOCIATION OF ELECTRICAL INSPECTORS\",\n          \"BRICKLAYERS & ALLIED CRAFTWORKERS LOCAL 13 VACATION FUND\"\n        ],\n        \"semantic_type\": \"\",\n        \"description\": \"\"\n      }\n    },\n    {\n      \"column\": \"APPLICATION_TYPE\",\n      \"properties\": {\n        \"dtype\": \"category\",\n        \"num_unique_values\": 17,\n        \"samples\": [\n          \"T10\",\n          \"T3\",\n          \"T6\"\n        ],\n        \"semantic_type\": \"\",\n        \"description\": \"\"\n      }\n    },\n    {\n      \"column\": \"AFFILIATION\",\n      \"properties\": {\n        \"dtype\": \"category\",\n        \"num_unique_values\": 6,\n        \"samples\": [\n          \"Independent\",\n          \"CompanySponsored\",\n          \"Other\"\n        ],\n        \"semantic_type\": \"\",\n        \"description\": \"\"\n      }\n    },\n    {\n      \"column\": \"CLASSIFICATION\",\n      \"properties\": {\n        \"dtype\": \"category\",\n        \"num_unique_values\": 71,\n        \"samples\": [\n          \"C1500\",\n          \"C1000\",\n          \"C1570\"\n        ],\n        \"semantic_type\": \"\",\n        \"description\": \"\"\n      }\n    },\n    {\n      \"column\": \"USE_CASE\",\n      \"properties\": {\n        \"dtype\": \"category\",\n        \"num_unique_values\": 5,\n        \"samples\": [\n          \"Preservation\",\n          \"Other\",\n          \"Heathcare\"\n        ],\n        \"semantic_type\": \"\",\n        \"description\": \"\"\n      }\n    },\n    {\n      \"column\": \"ORGANIZATION\",\n      \"properties\": {\n        \"dtype\": \"category\",\n        \"num_unique_values\": 4,\n        \"samples\": [\n          \"Co-operative\",\n          \"Corporation\",\n          \"Association\"\n        ],\n        \"semantic_type\": \"\",\n        \"description\": \"\"\n      }\n    },\n    {\n      \"column\": \"STATUS\",\n      \"properties\": {\n        \"dtype\": \"number\",\n        \"std\": 0,\n        \"min\": 0,\n        \"max\": 1,\n        \"num_unique_values\": 2,\n        \"samples\": [\n          0,\n          1\n        ],\n        \"semantic_type\": \"\",\n        \"description\": \"\"\n      }\n    },\n    {\n      \"column\": \"INCOME_AMT\",\n      \"properties\": {\n        \"dtype\": \"category\",\n        \"num_unique_values\": 9,\n        \"samples\": [\n          \"1M-5M\",\n          \"1-9999\"\n        ],\n        \"semantic_type\": \"\",\n        \"description\": \"\"\n      }\n    },\n    {\n      \"column\": \"SPECIAL_CONSIDERATIONS\",\n      \"properties\": {\n        \"dtype\": \"category\",\n        \"num_unique_values\": 2,\n        \"samples\": [\n          \"Y\",\n          \"N\"\n        ],\n        \"semantic_type\": \"\",\n        \"description\": \"\"\n      }\n    },\n    {\n      \"column\": \"ASK_AMT\",\n      \"properties\": {\n        \"dtype\": \"number\",\n        \"std\": 87130452,\n        \"min\": 5000,\n        \"max\": 8597806340,\n        \"num_unique_values\": 8747,\n        \"samples\": [\n          1328927,\n          42942\n        ],\n        \"semantic_type\": \"\",\n        \"description\": \"\"\n      }\n    },\n    {\n      \"column\": \"IS_SUCCESSFUL\",\n      \"properties\": {\n        \"dtype\": \"number\",\n        \"std\": 0,\n        \"min\": 0,\n        \"max\": 1,\n        \"num_unique_values\": 2,\n        \"samples\": [\n          0,\n          1\n        ],\n        \"semantic_type\": \"\",\n        \"description\": \"\"\n      }\n    }\n  ]\n}"
            }
          },
          "metadata": {},
          "execution_count": 1
        }
      ],
      "source": [
        "# Import our dependencies\n",
        "from sklearn.model_selection import train_test_split\n",
        "from sklearn.preprocessing import StandardScaler\n",
        "import pandas as pd\n",
        "import tensorflow as tf\n",
        "\n",
        "#  Import and read the charity_data.csv.\n",
        "import pandas as pd\n",
        "application_df = pd.read_csv(\"https://static.bc-edx.com/data/dl-1-2/m21/lms/starter/charity_data.csv\")\n",
        "application_df.head()"
      ]
    },
    {
      "cell_type": "code",
      "execution_count": null,
      "metadata": {
        "id": "Xks02RchA3kn"
      },
      "outputs": [],
      "source": [
        "# Drop the non-beneficial ID columns, 'EIN' and 'NAME'.\n",
        "application_df.drop(['EIN', 'NAME'], axis=1, inplace=True)"
      ]
    },
    {
      "cell_type": "code",
      "execution_count": null,
      "metadata": {
        "id": "N-Z2Pud8A3ko",
        "outputId": "880fb0fd-0566-430f-b91d-12de140e12c9",
        "colab": {
          "base_uri": "https://localhost:8080/"
        }
      },
      "outputs": [
        {
          "output_type": "stream",
          "name": "stdout",
          "text": [
            "APPLICATION_TYPE            17\n",
            "AFFILIATION                  6\n",
            "CLASSIFICATION              71\n",
            "USE_CASE                     5\n",
            "ORGANIZATION                 4\n",
            "STATUS                       2\n",
            "INCOME_AMT                   9\n",
            "SPECIAL_CONSIDERATIONS       2\n",
            "ASK_AMT                   8747\n",
            "IS_SUCCESSFUL                2\n",
            "dtype: int64\n"
          ]
        }
      ],
      "source": [
        "# Determine the number of unique values in each column.\n",
        "unique = application_df.nunique()\n",
        "print(unique)"
      ]
    },
    {
      "cell_type": "code",
      "execution_count": null,
      "metadata": {
        "id": "288jskcZA3kp",
        "outputId": "09fb018d-5a5e-4cb7-9ea7-57f107f5342b",
        "colab": {
          "base_uri": "https://localhost:8080/"
        }
      },
      "outputs": [
        {
          "output_type": "stream",
          "name": "stdout",
          "text": [
            "APPLICATION_TYPE\n",
            "T3     27037\n",
            "T4      1542\n",
            "T6      1216\n",
            "T5      1173\n",
            "T19     1065\n",
            "T8       737\n",
            "T7       725\n",
            "T10      528\n",
            "T9       156\n",
            "T13       66\n",
            "T12       27\n",
            "T2        16\n",
            "T25        3\n",
            "T14        3\n",
            "T29        2\n",
            "T15        2\n",
            "T17        1\n",
            "Name: count, dtype: int64\n"
          ]
        }
      ],
      "source": [
        "# Look at APPLICATION_TYPE value counts to identify and replace with \"Other\"\n",
        "applications = application_df['APPLICATION_TYPE'].value_counts()\n",
        "print(applications)"
      ]
    },
    {
      "cell_type": "code",
      "execution_count": null,
      "metadata": {
        "id": "KowA8GG_A3kp",
        "outputId": "38f775a4-197b-49fe-bcf4-69fdb204e467",
        "colab": {
          "base_uri": "https://localhost:8080/"
        }
      },
      "outputs": [
        {
          "output_type": "stream",
          "name": "stdout",
          "text": [
            "['T9', 'T13', 'T12', 'T2', 'T25', 'T14', 'T29', 'T15', 'T17']\n"
          ]
        },
        {
          "output_type": "execute_result",
          "data": {
            "text/plain": [
              "APPLICATION_TYPE\n",
              "T3       27037\n",
              "T4        1542\n",
              "T6        1216\n",
              "T5        1173\n",
              "T19       1065\n",
              "T8         737\n",
              "T7         725\n",
              "T10        528\n",
              "Other      276\n",
              "Name: count, dtype: int64"
            ]
          },
          "metadata": {},
          "execution_count": 5
        }
      ],
      "source": [
        "# Choose a cutoff value and create a list of application types to be replaced\n",
        "# use the variable name `application_types_to_replace`\n",
        "application_types_to_replace = applications[applications < 500].index.tolist()\n",
        "print(application_types_to_replace)\n",
        "\n",
        "# Replace in dataframe\n",
        "for app in application_types_to_replace:\n",
        "    application_df['APPLICATION_TYPE'] = application_df['APPLICATION_TYPE'].replace(app,\"Other\")\n",
        "\n",
        "# Check to make sure replacement was successful\n",
        "application_df['APPLICATION_TYPE'].value_counts()"
      ]
    },
    {
      "cell_type": "code",
      "execution_count": null,
      "metadata": {
        "id": "XUSVEeyDA3kq",
        "outputId": "84702e44-3ed8-4474-f07c-c64ba1ba2182",
        "colab": {
          "base_uri": "https://localhost:8080/"
        }
      },
      "outputs": [
        {
          "output_type": "stream",
          "name": "stdout",
          "text": [
            "CLASSIFICATION\n",
            "C1000    17326\n",
            "C2000     6074\n",
            "C1200     4837\n",
            "C3000     1918\n",
            "C2100     1883\n",
            "         ...  \n",
            "C4120        1\n",
            "C8210        1\n",
            "C2561        1\n",
            "C4500        1\n",
            "C2150        1\n",
            "Name: count, Length: 71, dtype: int64\n"
          ]
        }
      ],
      "source": [
        "# Look at CLASSIFICATION value counts to identify and replace with \"Other\"\n",
        "classification_counts = application_df['CLASSIFICATION'].value_counts()\n",
        "print(classification_counts)"
      ]
    },
    {
      "cell_type": "code",
      "execution_count": null,
      "metadata": {
        "id": "igIcMhrAA3kr",
        "outputId": "0859140f-f975-4937-915d-728122bfa365",
        "colab": {
          "base_uri": "https://localhost:8080/"
        }
      },
      "outputs": [
        {
          "output_type": "stream",
          "name": "stdout",
          "text": [
            "CLASSIFICATION\n",
            "C1000    17326\n",
            "C2000     6074\n",
            "C1200     4837\n",
            "C3000     1918\n",
            "C2100     1883\n",
            "C7000      777\n",
            "C1700      287\n",
            "C4000      194\n",
            "C5000      116\n",
            "C1270      114\n",
            "C2700      104\n",
            "C2800       95\n",
            "C7100       75\n",
            "C1300       58\n",
            "C1280       50\n",
            "C1230       36\n",
            "C1400       34\n",
            "C7200       32\n",
            "C2300       32\n",
            "C1240       30\n",
            "C8000       20\n",
            "C7120       18\n",
            "C1500       16\n",
            "C1800       15\n",
            "C6000       15\n",
            "C1250       14\n",
            "C8200       11\n",
            "C1238       10\n",
            "C1278       10\n",
            "C1235        9\n",
            "C1237        9\n",
            "C7210        7\n",
            "C2400        6\n",
            "C1720        6\n",
            "C4100        6\n",
            "C1257        5\n",
            "C1600        5\n",
            "C1260        3\n",
            "C2710        3\n",
            "C0           3\n",
            "C3200        2\n",
            "C1234        2\n",
            "C1246        2\n",
            "C1267        2\n",
            "C1256        2\n",
            "Name: count, dtype: int64\n"
          ]
        }
      ],
      "source": [
        "# You may find it helpful to look at CLASSIFICATION value counts >1\n",
        "classification_counts = classification_counts[classification_counts > 1]\n",
        "print(classification_counts)"
      ]
    },
    {
      "cell_type": "code",
      "execution_count": null,
      "metadata": {
        "id": "q49gRURsA3kr",
        "outputId": "52c27ac4-a917-4d14-b0b3-ec93eeecd69e",
        "colab": {
          "base_uri": "https://localhost:8080/"
        }
      },
      "outputs": [
        {
          "output_type": "execute_result",
          "data": {
            "text/plain": [
              "CLASSIFICATION\n",
              "C1000    17326\n",
              "C2000     6074\n",
              "C1200     4837\n",
              "C3000     1918\n",
              "C2100     1883\n",
              "C7000      777\n",
              "Other      643\n",
              "C1700      287\n",
              "C4000      194\n",
              "C5000      116\n",
              "C1270      114\n",
              "C2700      104\n",
              "C1370        1\n",
              "C1236        1\n",
              "C2190        1\n",
              "C4200        1\n",
              "C5200        1\n",
              "C1900        1\n",
              "C2600        1\n",
              "C1248        1\n",
              "C6100        1\n",
              "C1820        1\n",
              "C1580        1\n",
              "C2570        1\n",
              "C1732        1\n",
              "C3700        1\n",
              "C2500        1\n",
              "C1570        1\n",
              "C1283        1\n",
              "C2380        1\n",
              "C1728        1\n",
              "C2170        1\n",
              "C4120        1\n",
              "C8210        1\n",
              "C4500        1\n",
              "C1245        1\n",
              "C2561        1\n",
              "C2150        1\n",
              "Name: count, dtype: int64"
            ]
          },
          "metadata": {},
          "execution_count": 8
        }
      ],
      "source": [
        "# Choose a cutoff value and create a list of classifications to be replaced\n",
        "# use the variable name `classifications_to_replace`\n",
        "classifications_to_replace = classification_counts[classification_counts < 100].index.tolist()\n",
        "\n",
        "# Replace in dataframe\n",
        "for cls in classifications_to_replace:\n",
        "    application_df['CLASSIFICATION'] = application_df['CLASSIFICATION'].replace(cls,\"Other\")\n",
        "\n",
        "# Check to make sure replacement was successful\n",
        "application_df['CLASSIFICATION'].value_counts()"
      ]
    },
    {
      "cell_type": "code",
      "execution_count": null,
      "metadata": {
        "id": "fY2_ZNxtA3ks",
        "colab": {
          "base_uri": "https://localhost:8080/"
        },
        "outputId": "4431c7a9-a5d9-4309-8751-264c1be09132"
      },
      "outputs": [
        {
          "output_type": "stream",
          "name": "stdout",
          "text": [
            "   STATUS  ASK_AMT  IS_SUCCESSFUL  APPLICATION_TYPE_Other  \\\n",
            "0       1     5000              1                   False   \n",
            "1       1   108590              1                   False   \n",
            "2       1     5000              0                   False   \n",
            "3       1     6692              1                   False   \n",
            "4       1   142590              1                   False   \n",
            "\n",
            "   APPLICATION_TYPE_T10  APPLICATION_TYPE_T19  APPLICATION_TYPE_T3  \\\n",
            "0                  True                 False                False   \n",
            "1                 False                 False                 True   \n",
            "2                 False                 False                False   \n",
            "3                 False                 False                 True   \n",
            "4                 False                 False                 True   \n",
            "\n",
            "   APPLICATION_TYPE_T4  APPLICATION_TYPE_T5  APPLICATION_TYPE_T6  ...  \\\n",
            "0                False                False                False  ...   \n",
            "1                False                False                False  ...   \n",
            "2                False                 True                False  ...   \n",
            "3                False                False                False  ...   \n",
            "4                False                False                False  ...   \n",
            "\n",
            "   INCOME_AMT_1-9999  INCOME_AMT_10000-24999  INCOME_AMT_100000-499999  \\\n",
            "0              False                   False                     False   \n",
            "1               True                   False                     False   \n",
            "2              False                   False                     False   \n",
            "3              False                    True                     False   \n",
            "4              False                   False                      True   \n",
            "\n",
            "   INCOME_AMT_10M-50M  INCOME_AMT_1M-5M  INCOME_AMT_25000-99999  \\\n",
            "0               False             False                   False   \n",
            "1               False             False                   False   \n",
            "2               False             False                   False   \n",
            "3               False             False                   False   \n",
            "4               False             False                   False   \n",
            "\n",
            "   INCOME_AMT_50M+  INCOME_AMT_5M-10M  SPECIAL_CONSIDERATIONS_N  \\\n",
            "0            False              False                      True   \n",
            "1            False              False                      True   \n",
            "2            False              False                      True   \n",
            "3            False              False                      True   \n",
            "4            False              False                      True   \n",
            "\n",
            "   SPECIAL_CONSIDERATIONS_Y  \n",
            "0                     False  \n",
            "1                     False  \n",
            "2                     False  \n",
            "3                     False  \n",
            "4                     False  \n",
            "\n",
            "[5 rows x 76 columns]\n"
          ]
        }
      ],
      "source": [
        "# Convert categorical data to numeric with `pd.get_dummies`\n",
        "encoded = pd.get_dummies(application_df)\n",
        "print(encoded.head())"
      ]
    },
    {
      "cell_type": "code",
      "execution_count": null,
      "metadata": {
        "id": "i36Km5PfA3kt"
      },
      "outputs": [],
      "source": [
        "# Split our preprocessed data into our features and target arrays\n",
        "X = encoded.drop(['IS_SUCCESSFUL'], axis=1)\n",
        "y = encoded['IS_SUCCESSFUL']\n",
        "\n",
        "# Split the preprocessed data into a training and testing dataset\n",
        "X_train, X_test, y_train, y_test = train_test_split(X, y, test_size=0.2, random_state=42)"
      ]
    },
    {
      "cell_type": "code",
      "execution_count": null,
      "metadata": {
        "id": "iuoHWPA8A3kt"
      },
      "outputs": [],
      "source": [
        "# Create a StandardScaler instances\n",
        "scaler = StandardScaler()\n",
        "\n",
        "# Fit the StandardScaler\n",
        "X_scaler = scaler.fit(X_train)\n",
        "\n",
        "# Scale the data\n",
        "X_train_scaled = X_scaler.transform(X_train)\n",
        "X_test_scaled = X_scaler.transform(X_test)"
      ]
    },
    {
      "cell_type": "markdown",
      "metadata": {
        "id": "c4b2osVwA3ku"
      },
      "source": [
        "## Compile, Train and Evaluate the Model"
      ]
    },
    {
      "cell_type": "code",
      "execution_count": null,
      "metadata": {
        "id": "sLVvCqCaA3ku",
        "outputId": "1e5865d5-00c3-4e0e-c011-a6198b9a9cb2",
        "colab": {
          "base_uri": "https://localhost:8080/"
        }
      },
      "outputs": [
        {
          "output_type": "stream",
          "name": "stdout",
          "text": [
            "Model: \"sequential\"\n",
            "_________________________________________________________________\n",
            " Layer (type)                Output Shape              Param #   \n",
            "=================================================================\n",
            " dense (Dense)               (None, 80)                6080      \n",
            "                                                                 \n",
            " dense_1 (Dense)             (None, 30)                2430      \n",
            "                                                                 \n",
            " dense_2 (Dense)             (None, 1)                 31        \n",
            "                                                                 \n",
            "=================================================================\n",
            "Total params: 8541 (33.36 KB)\n",
            "Trainable params: 8541 (33.36 KB)\n",
            "Non-trainable params: 0 (0.00 Byte)\n",
            "_________________________________________________________________\n"
          ]
        }
      ],
      "source": [
        "# Define the model - deep neural net, i.e., the number of input features and hidden nodes for each layer.\n",
        "input_features = X_train_scaled.shape[1]\n",
        "\n",
        "nn = tf.keras.models.Sequential()\n",
        "\n",
        "# First hidden layer\n",
        "nn.add(tf.keras.layers.Dense(units=80, activation='relu', input_dim=input_features))\n",
        "\n",
        "# Second hidden layer\n",
        "nn.add(tf.keras.layers.Dense(units=30, activation='relu'))\n",
        "\n",
        "# Output layer\n",
        "nn.add(tf.keras.layers.Dense(units=1, activation='sigmoid'))\n",
        "\n",
        "# Check the structure of the model\n",
        "nn.summary()"
      ]
    },
    {
      "cell_type": "code",
      "execution_count": null,
      "metadata": {
        "id": "XWr20jlsA3kv"
      },
      "outputs": [],
      "source": [
        "# Compile the model\n",
        "nn.compile(optimizer='adam', loss='binary_crossentropy', metrics=['accuracy'])"
      ]
    },
    {
      "cell_type": "code",
      "execution_count": null,
      "metadata": {
        "id": "v4XZLZMtA3kw",
        "outputId": "750e234a-fb14-425e-f573-fe43566ce79a",
        "colab": {
          "base_uri": "https://localhost:8080/"
        }
      },
      "outputs": [
        {
          "output_type": "stream",
          "name": "stdout",
          "text": [
            "Epoch 1/100\n",
            "2744/2744 [==============================] - 12s 4ms/step - loss: 0.5685 - accuracy: 0.7225 - val_loss: 0.5627 - val_accuracy: 0.7255\n",
            "Epoch 2/100\n",
            "2744/2744 [==============================] - 10s 4ms/step - loss: 0.5538 - accuracy: 0.7279 - val_loss: 0.5603 - val_accuracy: 0.7208\n",
            "Epoch 3/100\n",
            "2744/2744 [==============================] - 9s 3ms/step - loss: 0.5511 - accuracy: 0.7298 - val_loss: 0.5615 - val_accuracy: 0.7203\n",
            "Epoch 4/100\n",
            "2744/2744 [==============================] - 10s 4ms/step - loss: 0.5494 - accuracy: 0.7302 - val_loss: 0.5558 - val_accuracy: 0.7254\n",
            "Epoch 5/100\n",
            "2744/2744 [==============================] - 10s 4ms/step - loss: 0.5474 - accuracy: 0.7319 - val_loss: 0.5543 - val_accuracy: 0.7227\n",
            "Epoch 6/100\n",
            "2744/2744 [==============================] - 8s 3ms/step - loss: 0.5462 - accuracy: 0.7313 - val_loss: 0.5613 - val_accuracy: 0.7238\n",
            "Epoch 7/100\n",
            "2744/2744 [==============================] - 9s 3ms/step - loss: 0.5457 - accuracy: 0.7326 - val_loss: 0.5551 - val_accuracy: 0.7245\n",
            "Epoch 8/100\n",
            "2744/2744 [==============================] - 10s 3ms/step - loss: 0.5444 - accuracy: 0.7342 - val_loss: 0.5581 - val_accuracy: 0.7235\n",
            "Epoch 9/100\n",
            "2744/2744 [==============================] - 9s 3ms/step - loss: 0.5445 - accuracy: 0.7324 - val_loss: 0.5538 - val_accuracy: 0.7259\n",
            "Epoch 10/100\n",
            "2744/2744 [==============================] - 11s 4ms/step - loss: 0.5432 - accuracy: 0.7348 - val_loss: 0.5561 - val_accuracy: 0.7257\n",
            "Epoch 11/100\n",
            "2744/2744 [==============================] - 9s 3ms/step - loss: 0.5430 - accuracy: 0.7340 - val_loss: 0.5578 - val_accuracy: 0.7248\n",
            "Epoch 12/100\n",
            "2744/2744 [==============================] - 8s 3ms/step - loss: 0.5417 - accuracy: 0.7349 - val_loss: 0.5612 - val_accuracy: 0.7226\n",
            "Epoch 13/100\n",
            "2744/2744 [==============================] - 9s 3ms/step - loss: 0.5423 - accuracy: 0.7352 - val_loss: 0.5549 - val_accuracy: 0.7281\n",
            "Epoch 14/100\n",
            "2744/2744 [==============================] - 8s 3ms/step - loss: 0.5411 - accuracy: 0.7371 - val_loss: 0.5554 - val_accuracy: 0.7243\n",
            "Epoch 15/100\n",
            "2744/2744 [==============================] - 9s 3ms/step - loss: 0.5409 - accuracy: 0.7359 - val_loss: 0.5559 - val_accuracy: 0.7297\n",
            "Epoch 16/100\n",
            "2744/2744 [==============================] - 9s 3ms/step - loss: 0.5409 - accuracy: 0.7361 - val_loss: 0.5545 - val_accuracy: 0.7286\n",
            "Epoch 17/100\n",
            "2744/2744 [==============================] - 8s 3ms/step - loss: 0.5403 - accuracy: 0.7369 - val_loss: 0.5564 - val_accuracy: 0.7271\n",
            "Epoch 18/100\n",
            "2744/2744 [==============================] - 9s 3ms/step - loss: 0.5398 - accuracy: 0.7361 - val_loss: 0.5568 - val_accuracy: 0.7224\n",
            "Epoch 19/100\n",
            "2744/2744 [==============================] - 10s 4ms/step - loss: 0.5395 - accuracy: 0.7355 - val_loss: 0.5533 - val_accuracy: 0.7294\n",
            "Epoch 20/100\n",
            "2744/2744 [==============================] - 8s 3ms/step - loss: 0.5397 - accuracy: 0.7366 - val_loss: 0.5539 - val_accuracy: 0.7310\n",
            "Epoch 21/100\n",
            "2744/2744 [==============================] - 9s 3ms/step - loss: 0.5393 - accuracy: 0.7361 - val_loss: 0.5568 - val_accuracy: 0.7313\n",
            "Epoch 22/100\n",
            "2744/2744 [==============================] - 10s 4ms/step - loss: 0.5391 - accuracy: 0.7363 - val_loss: 0.5563 - val_accuracy: 0.7292\n",
            "Epoch 23/100\n",
            "2744/2744 [==============================] - 8s 3ms/step - loss: 0.5390 - accuracy: 0.7372 - val_loss: 0.5524 - val_accuracy: 0.7281\n",
            "Epoch 24/100\n",
            "2744/2744 [==============================] - 9s 3ms/step - loss: 0.5383 - accuracy: 0.7374 - val_loss: 0.5542 - val_accuracy: 0.7262\n",
            "Epoch 25/100\n",
            "2744/2744 [==============================] - 9s 3ms/step - loss: 0.5389 - accuracy: 0.7379 - val_loss: 0.5555 - val_accuracy: 0.7290\n",
            "Epoch 26/100\n",
            "2744/2744 [==============================] - 8s 3ms/step - loss: 0.5383 - accuracy: 0.7383 - val_loss: 0.5532 - val_accuracy: 0.7287\n",
            "Epoch 27/100\n",
            "2744/2744 [==============================] - 10s 4ms/step - loss: 0.5383 - accuracy: 0.7366 - val_loss: 0.5536 - val_accuracy: 0.7284\n",
            "Epoch 28/100\n",
            "2744/2744 [==============================] - 10s 4ms/step - loss: 0.5377 - accuracy: 0.7388 - val_loss: 0.5542 - val_accuracy: 0.7284\n",
            "Epoch 29/100\n",
            "2744/2744 [==============================] - 8s 3ms/step - loss: 0.5373 - accuracy: 0.7389 - val_loss: 0.5538 - val_accuracy: 0.7300\n",
            "Epoch 30/100\n",
            "2744/2744 [==============================] - 9s 3ms/step - loss: 0.5372 - accuracy: 0.7377 - val_loss: 0.5537 - val_accuracy: 0.7303\n",
            "Epoch 31/100\n",
            "2744/2744 [==============================] - 10s 4ms/step - loss: 0.5372 - accuracy: 0.7376 - val_loss: 0.5556 - val_accuracy: 0.7259\n",
            "Epoch 32/100\n",
            "2744/2744 [==============================] - 10s 4ms/step - loss: 0.5375 - accuracy: 0.7390 - val_loss: 0.5535 - val_accuracy: 0.7290\n",
            "Epoch 33/100\n",
            "2744/2744 [==============================] - 10s 4ms/step - loss: 0.5370 - accuracy: 0.7376 - val_loss: 0.5576 - val_accuracy: 0.7258\n",
            "Epoch 34/100\n",
            "2744/2744 [==============================] - 7s 3ms/step - loss: 0.5369 - accuracy: 0.7390 - val_loss: 0.5555 - val_accuracy: 0.7294\n",
            "Epoch 35/100\n",
            "2744/2744 [==============================] - 10s 3ms/step - loss: 0.5371 - accuracy: 0.7387 - val_loss: 0.5575 - val_accuracy: 0.7255\n",
            "Epoch 36/100\n",
            "2744/2744 [==============================] - 10s 4ms/step - loss: 0.5364 - accuracy: 0.7384 - val_loss: 0.5568 - val_accuracy: 0.7287\n",
            "Epoch 37/100\n",
            "2744/2744 [==============================] - 8s 3ms/step - loss: 0.5363 - accuracy: 0.7381 - val_loss: 0.5598 - val_accuracy: 0.7283\n",
            "Epoch 38/100\n",
            "2744/2744 [==============================] - 9s 3ms/step - loss: 0.5362 - accuracy: 0.7390 - val_loss: 0.5564 - val_accuracy: 0.7313\n",
            "Epoch 39/100\n",
            "2744/2744 [==============================] - 8s 3ms/step - loss: 0.5358 - accuracy: 0.7393 - val_loss: 0.5590 - val_accuracy: 0.7300\n",
            "Epoch 40/100\n",
            "2744/2744 [==============================] - 8s 3ms/step - loss: 0.5358 - accuracy: 0.7389 - val_loss: 0.5591 - val_accuracy: 0.7305\n",
            "Epoch 41/100\n",
            "2744/2744 [==============================] - 9s 3ms/step - loss: 0.5356 - accuracy: 0.7392 - val_loss: 0.5596 - val_accuracy: 0.7280\n",
            "Epoch 42/100\n",
            "2744/2744 [==============================] - 7s 3ms/step - loss: 0.5356 - accuracy: 0.7389 - val_loss: 0.5578 - val_accuracy: 0.7299\n",
            "Epoch 43/100\n",
            "2744/2744 [==============================] - 9s 3ms/step - loss: 0.5356 - accuracy: 0.7387 - val_loss: 0.5615 - val_accuracy: 0.7281\n",
            "Epoch 44/100\n",
            "2744/2744 [==============================] - 10s 4ms/step - loss: 0.5355 - accuracy: 0.7392 - val_loss: 0.5588 - val_accuracy: 0.7325\n",
            "Epoch 45/100\n",
            "2744/2744 [==============================] - 8s 3ms/step - loss: 0.5351 - accuracy: 0.7396 - val_loss: 0.5619 - val_accuracy: 0.7303\n",
            "Epoch 46/100\n",
            "2744/2744 [==============================] - 9s 3ms/step - loss: 0.5359 - accuracy: 0.7388 - val_loss: 0.5604 - val_accuracy: 0.7287\n",
            "Epoch 47/100\n",
            "2744/2744 [==============================] - 9s 3ms/step - loss: 0.5353 - accuracy: 0.7395 - val_loss: 0.5595 - val_accuracy: 0.7280\n",
            "Epoch 48/100\n",
            "2744/2744 [==============================] - 8s 3ms/step - loss: 0.5349 - accuracy: 0.7395 - val_loss: 0.5598 - val_accuracy: 0.7277\n",
            "Epoch 49/100\n",
            "2744/2744 [==============================] - 9s 3ms/step - loss: 0.5349 - accuracy: 0.7400 - val_loss: 0.5598 - val_accuracy: 0.7292\n",
            "Epoch 50/100\n",
            "2744/2744 [==============================] - 7s 3ms/step - loss: 0.5350 - accuracy: 0.7391 - val_loss: 0.5607 - val_accuracy: 0.7268\n",
            "Epoch 51/100\n",
            "2744/2744 [==============================] - 9s 3ms/step - loss: 0.5345 - accuracy: 0.7386 - val_loss: 0.5596 - val_accuracy: 0.7287\n",
            "Epoch 52/100\n",
            "2744/2744 [==============================] - 7s 3ms/step - loss: 0.5347 - accuracy: 0.7404 - val_loss: 0.5582 - val_accuracy: 0.7294\n",
            "Epoch 53/100\n",
            "2744/2744 [==============================] - 10s 4ms/step - loss: 0.5341 - accuracy: 0.7393 - val_loss: 0.5614 - val_accuracy: 0.7271\n",
            "Epoch 54/100\n",
            "2744/2744 [==============================] - 9s 3ms/step - loss: 0.5348 - accuracy: 0.7399 - val_loss: 0.5597 - val_accuracy: 0.7297\n",
            "Epoch 55/100\n",
            "2744/2744 [==============================] - 8s 3ms/step - loss: 0.5336 - accuracy: 0.7399 - val_loss: 0.5664 - val_accuracy: 0.7297\n",
            "Epoch 56/100\n",
            "2744/2744 [==============================] - 13s 5ms/step - loss: 0.5342 - accuracy: 0.7395 - val_loss: 0.5595 - val_accuracy: 0.7289\n",
            "Epoch 57/100\n",
            "2744/2744 [==============================] - 9s 3ms/step - loss: 0.5341 - accuracy: 0.7400 - val_loss: 0.5610 - val_accuracy: 0.7300\n",
            "Epoch 58/100\n",
            "2744/2744 [==============================] - 7s 3ms/step - loss: 0.5339 - accuracy: 0.7400 - val_loss: 0.5615 - val_accuracy: 0.7289\n",
            "Epoch 59/100\n",
            "2744/2744 [==============================] - 9s 3ms/step - loss: 0.5338 - accuracy: 0.7397 - val_loss: 0.5600 - val_accuracy: 0.7309\n",
            "Epoch 60/100\n",
            "2744/2744 [==============================] - 9s 3ms/step - loss: 0.5338 - accuracy: 0.7400 - val_loss: 0.5626 - val_accuracy: 0.7309\n",
            "Epoch 61/100\n",
            "2744/2744 [==============================] - 7s 3ms/step - loss: 0.5339 - accuracy: 0.7391 - val_loss: 0.5618 - val_accuracy: 0.7312\n",
            "Epoch 62/100\n",
            "2744/2744 [==============================] - 9s 3ms/step - loss: 0.5354 - accuracy: 0.7397 - val_loss: 0.5603 - val_accuracy: 0.7287\n",
            "Epoch 63/100\n",
            "2744/2744 [==============================] - 7s 3ms/step - loss: 0.5333 - accuracy: 0.7404 - val_loss: 0.5629 - val_accuracy: 0.7283\n",
            "Epoch 64/100\n",
            "2744/2744 [==============================] - 12s 4ms/step - loss: 0.5334 - accuracy: 0.7402 - val_loss: 0.5613 - val_accuracy: 0.7294\n",
            "Epoch 65/100\n",
            "2744/2744 [==============================] - 12s 4ms/step - loss: 0.5336 - accuracy: 0.7404 - val_loss: 0.5640 - val_accuracy: 0.7281\n",
            "Epoch 66/100\n",
            "2744/2744 [==============================] - 7s 3ms/step - loss: 0.5331 - accuracy: 0.7403 - val_loss: 0.5635 - val_accuracy: 0.7276\n",
            "Epoch 67/100\n",
            "2744/2744 [==============================] - 8s 3ms/step - loss: 0.5335 - accuracy: 0.7400 - val_loss: 0.5594 - val_accuracy: 0.7292\n",
            "Epoch 68/100\n",
            "2744/2744 [==============================] - 9s 3ms/step - loss: 0.5362 - accuracy: 0.7400 - val_loss: 0.5681 - val_accuracy: 0.7286\n",
            "Epoch 69/100\n",
            "2744/2744 [==============================] - 7s 3ms/step - loss: 0.5357 - accuracy: 0.7402 - val_loss: 0.5634 - val_accuracy: 0.7308\n",
            "Epoch 70/100\n",
            "2744/2744 [==============================] - 8s 3ms/step - loss: 0.5326 - accuracy: 0.7397 - val_loss: 0.5673 - val_accuracy: 0.7294\n",
            "Epoch 71/100\n",
            "2744/2744 [==============================] - 7s 3ms/step - loss: 0.5328 - accuracy: 0.7404 - val_loss: 0.5646 - val_accuracy: 0.7299\n",
            "Epoch 72/100\n",
            "2744/2744 [==============================] - 8s 3ms/step - loss: 0.5334 - accuracy: 0.7403 - val_loss: 0.5646 - val_accuracy: 0.7290\n",
            "Epoch 73/100\n",
            "2744/2744 [==============================] - 7s 3ms/step - loss: 0.5328 - accuracy: 0.7401 - val_loss: 0.5681 - val_accuracy: 0.7277\n",
            "Epoch 74/100\n",
            "2744/2744 [==============================] - 9s 3ms/step - loss: 0.5338 - accuracy: 0.7402 - val_loss: 0.5643 - val_accuracy: 0.7287\n",
            "Epoch 75/100\n",
            "2744/2744 [==============================] - 9s 3ms/step - loss: 0.5339 - accuracy: 0.7403 - val_loss: 0.5650 - val_accuracy: 0.7290\n",
            "Epoch 76/100\n",
            "2744/2744 [==============================] - 7s 3ms/step - loss: 0.5323 - accuracy: 0.7408 - val_loss: 0.5644 - val_accuracy: 0.7302\n",
            "Epoch 77/100\n",
            "2744/2744 [==============================] - 9s 3ms/step - loss: 0.5325 - accuracy: 0.7409 - val_loss: 0.5637 - val_accuracy: 0.7300\n",
            "Epoch 78/100\n",
            "2744/2744 [==============================] - 7s 3ms/step - loss: 0.5330 - accuracy: 0.7395 - val_loss: 0.5628 - val_accuracy: 0.7308\n",
            "Epoch 79/100\n",
            "2744/2744 [==============================] - 9s 3ms/step - loss: 0.5328 - accuracy: 0.7399 - val_loss: 0.5647 - val_accuracy: 0.7274\n",
            "Epoch 80/100\n",
            "2744/2744 [==============================] - 7s 3ms/step - loss: 0.5329 - accuracy: 0.7406 - val_loss: 0.5659 - val_accuracy: 0.7290\n",
            "Epoch 81/100\n",
            "2744/2744 [==============================] - 9s 3ms/step - loss: 0.5330 - accuracy: 0.7406 - val_loss: 0.5639 - val_accuracy: 0.7300\n",
            "Epoch 82/100\n",
            "2744/2744 [==============================] - 10s 4ms/step - loss: 0.5327 - accuracy: 0.7411 - val_loss: 0.5693 - val_accuracy: 0.7289\n",
            "Epoch 83/100\n",
            "2744/2744 [==============================] - 17s 6ms/step - loss: 0.5326 - accuracy: 0.7400 - val_loss: 0.5642 - val_accuracy: 0.7305\n",
            "Epoch 84/100\n",
            "2744/2744 [==============================] - 18s 7ms/step - loss: 0.5326 - accuracy: 0.7402 - val_loss: 0.5652 - val_accuracy: 0.7280\n",
            "Epoch 85/100\n",
            "2744/2744 [==============================] - 10s 4ms/step - loss: 0.5320 - accuracy: 0.7402 - val_loss: 0.5678 - val_accuracy: 0.7297\n",
            "Epoch 86/100\n",
            "2744/2744 [==============================] - 7s 3ms/step - loss: 0.5375 - accuracy: 0.7402 - val_loss: 0.5690 - val_accuracy: 0.7289\n",
            "Epoch 87/100\n",
            "2744/2744 [==============================] - 9s 3ms/step - loss: 0.5374 - accuracy: 0.7406 - val_loss: 0.5604 - val_accuracy: 0.7300\n",
            "Epoch 88/100\n",
            "2744/2744 [==============================] - 8s 3ms/step - loss: 0.5315 - accuracy: 0.7404 - val_loss: 0.5709 - val_accuracy: 0.7283\n",
            "Epoch 89/100\n",
            "2744/2744 [==============================] - 9s 3ms/step - loss: 0.5323 - accuracy: 0.7403 - val_loss: 0.5631 - val_accuracy: 0.7302\n",
            "Epoch 90/100\n",
            "2744/2744 [==============================] - 9s 3ms/step - loss: 0.5320 - accuracy: 0.7403 - val_loss: 0.5687 - val_accuracy: 0.7293\n",
            "Epoch 91/100\n",
            "2744/2744 [==============================] - 8s 3ms/step - loss: 0.5319 - accuracy: 0.7404 - val_loss: 0.5749 - val_accuracy: 0.7293\n",
            "Epoch 92/100\n",
            "2744/2744 [==============================] - 10s 3ms/step - loss: 0.5329 - accuracy: 0.7406 - val_loss: 0.5708 - val_accuracy: 0.7284\n",
            "Epoch 93/100\n",
            "2744/2744 [==============================] - 10s 4ms/step - loss: 0.5319 - accuracy: 0.7405 - val_loss: 0.5697 - val_accuracy: 0.7281\n",
            "Epoch 94/100\n",
            "2744/2744 [==============================] - 9s 3ms/step - loss: 0.5323 - accuracy: 0.7400 - val_loss: 0.5624 - val_accuracy: 0.7296\n",
            "Epoch 95/100\n",
            "2744/2744 [==============================] - 10s 4ms/step - loss: 0.5322 - accuracy: 0.7406 - val_loss: 0.5650 - val_accuracy: 0.7284\n",
            "Epoch 96/100\n",
            "2744/2744 [==============================] - 10s 3ms/step - loss: 0.5319 - accuracy: 0.7411 - val_loss: 0.5666 - val_accuracy: 0.7289\n",
            "Epoch 97/100\n",
            "2744/2744 [==============================] - 7s 3ms/step - loss: 0.5319 - accuracy: 0.7402 - val_loss: 0.5657 - val_accuracy: 0.7299\n",
            "Epoch 98/100\n",
            "2744/2744 [==============================] - 10s 4ms/step - loss: 0.5397 - accuracy: 0.7398 - val_loss: 0.5663 - val_accuracy: 0.7300\n",
            "Epoch 99/100\n",
            "2744/2744 [==============================] - 10s 4ms/step - loss: 0.5313 - accuracy: 0.7410 - val_loss: 0.5699 - val_accuracy: 0.7289\n",
            "Epoch 100/100\n",
            "2744/2744 [==============================] - 8s 3ms/step - loss: 0.5314 - accuracy: 0.7406 - val_loss: 0.5690 - val_accuracy: 0.7287\n"
          ]
        }
      ],
      "source": [
        "# Train the model\n",
        "nnmodel = nn.fit(X_train_scaled, y_train, epochs=100, batch_size=10, validation_data=(X_test_scaled, y_test))"
      ]
    },
    {
      "cell_type": "code",
      "execution_count": null,
      "metadata": {
        "id": "g_S_5sGsA3kw",
        "outputId": "8f058455-45ba-4c47-bbac-f0cb481dda05",
        "colab": {
          "base_uri": "https://localhost:8080/"
        }
      },
      "outputs": [
        {
          "output_type": "stream",
          "name": "stdout",
          "text": [
            "215/215 - 1s - loss: 0.5690 - accuracy: 0.7287 - 556ms/epoch - 3ms/step\n",
            "Loss: 0.5689756870269775, Accuracy: 0.7287172079086304\n"
          ]
        }
      ],
      "source": [
        "# Evaluate the model using the test data\n",
        "model_loss, model_accuracy = nn.evaluate(X_test_scaled,y_test,verbose=2)\n",
        "print(f\"Loss: {model_loss}, Accuracy: {model_accuracy}\")"
      ]
    },
    {
      "cell_type": "code",
      "execution_count": null,
      "metadata": {
        "id": "Mt5it4obA3kx",
        "colab": {
          "base_uri": "https://localhost:8080/"
        },
        "outputId": "fb96f259-0a4e-47a5-ef52-21595436df48"
      },
      "outputs": [
        {
          "output_type": "stream",
          "name": "stdout",
          "text": [
            "Mounted at /content/drive\n"
          ]
        }
      ],
      "source": [
        "# Export our model to HDF5 file\n",
        "from google.colab import drive\n",
        "drive.mount('/content/drive')"
      ]
    },
    {
      "cell_type": "code",
      "source": [
        "nn.save('/content/drive/My Drive/deep-learning/AlphabetSoupCharity.h5')"
      ],
      "metadata": {
        "colab": {
          "base_uri": "https://localhost:8080/"
        },
        "id": "Wo_IrBjpL6ME",
        "outputId": "84ee3388-d4e7-48dd-b30a-239e5c054657"
      },
      "execution_count": null,
      "outputs": [
        {
          "output_type": "stream",
          "name": "stderr",
          "text": [
            "/usr/local/lib/python3.10/dist-packages/keras/src/engine/training.py:3103: UserWarning: You are saving your model as an HDF5 file via `model.save()`. This file format is considered legacy. We recommend using instead the native Keras format, e.g. `model.save('my_model.keras')`.\n",
            "  saving_api.save_model(\n"
          ]
        }
      ]
    },
    {
      "cell_type": "code",
      "source": [],
      "metadata": {
        "id": "HW6rStalNYoZ"
      },
      "execution_count": null,
      "outputs": []
    }
  ],
  "metadata": {
    "kernelspec": {
      "display_name": "Python 3",
      "language": "python",
      "name": "python3"
    },
    "language_info": {
      "codemirror_mode": {
        "name": "ipython",
        "version": 3
      },
      "file_extension": ".py",
      "mimetype": "text/x-python",
      "name": "python",
      "nbconvert_exporter": "python",
      "pygments_lexer": "ipython3",
      "version": "3.-1.-1"
    },
    "vscode": {
      "interpreter": {
        "hash": "31f2aee4e71d21fbe5cf8b01ff0e069b9275f58929596ceb00d14d90e3e16cd6"
      }
    },
    "colab": {
      "provenance": []
    }
  },
  "nbformat": 4,
  "nbformat_minor": 0
}